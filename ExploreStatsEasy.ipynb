{
 "cells": [
  {
   "cell_type": "code",
   "execution_count": 1,
   "metadata": {
    "collapsed": false
   },
   "outputs": [
    {
     "data": {
      "text/plain": [
       "'3.5.2 |Continuum Analytics, Inc.| (default, Jul  2 2016, 17:52:12) \\n[GCC 4.2.1 Compatible Apple LLVM 4.2 (clang-425.0.28)]'"
      ]
     },
     "execution_count": 1,
     "metadata": {},
     "output_type": "execute_result"
    }
   ],
   "source": [
    "import sys\n",
    "sys.version"
   ]
  },
  {
   "cell_type": "code",
   "execution_count": 1,
   "metadata": {
    "collapsed": true
   },
   "outputs": [],
   "source": [
    "# Let's implement some of the approaches that the Statistics Is Easy! book describes.\n"
   ]
  },
  {
   "cell_type": "code",
   "execution_count": 2,
   "metadata": {
    "collapsed": false
   },
   "outputs": [],
   "source": [
    "import numpy as np\n",
    "# from scipy import\n",
    "import matplotlib.pyplot as plt\n",
    "%matplotlib notebook\n",
    "plt.style.use('ggplot')"
   ]
  },
  {
   "cell_type": "code",
   "execution_count": 73,
   "metadata": {
    "collapsed": true
   },
   "outputs": [],
   "source": [
    "def make_numpy(arr):\n",
    "    if ~isinstance(arr, np.ndarray):\n",
    "        arr = np.array(arr)\n",
    "    return arr"
   ]
  },
  {
   "cell_type": "code",
   "execution_count": 82,
   "metadata": {
    "collapsed": true
   },
   "outputs": [],
   "source": [
    "def shuffle_method(control, treatment, N=10000):\n",
    "    '''input: \n",
    "         control = the data from the control, as a non-empty numpy array \n",
    "         treatment = the data from the treatment, as a non-empty numpy array\n",
    "         N = number of iterations\n",
    "       output: \n",
    "         obsv difference\n",
    "         proportion of the N trials where the difference of 2 means is greater or equal to observed'''\n",
    "    \n",
    "    # calculate difference of the means\n",
    "    c = make_numpy(control)\n",
    "    c = c.reshape(c.shape[0], 1)\n",
    "    t = make_numpy(treatment)\n",
    "    t = t.reshape(t.shape[0], 1)\n",
    "    c_mean = c.mean()\n",
    "    t_mean = t.mean()\n",
    "    \n",
    "    print(\"Control mean: {0}\\tTreatment mean: {1}\".format(c_mean, t_mean))\n",
    "    print(\"Control mean - treatment mean: {0}\".format(c_mean - t_mean))\n",
    "\n",
    "    # create a combined vector to read from.\n",
    "    combo = np.vstack((c, t))\n",
    "\n",
    "    # now: start taking shuffled label samples & record results.\n",
    "    c_shufflemeans = []\n",
    "    t_shufflemeans = []\n",
    "    \n",
    "    for _ in range(N):\n",
    "        # select c_len number of samples to call cprime & rest are tprime\n",
    "        fullvec = np.random.permutation(combo)\n",
    "#         print(fullvec)\n",
    "        cprime = fullvec[0:len(c)]\n",
    "        tprime = fullvec[len(c):]\n",
    "        c_shufflemeans.append(cprime.mean())\n",
    "        t_shufflemeans.append(tprime.mean())\n",
    "        \n",
    "    diffs_ct = np.array(c_shufflemeans) - np.array(t_shufflemeans)\n",
    "    \n",
    "    # count number where diffs_ct < or = c_mean-t_mean\n",
    "    num_ge = len(diffs_ct[diffs_ct <= c_mean-t_mean])\n",
    "    print('{0} out of {1} experiments had a difference of means less than or equal to {2}'.format(num_ge, N,c_mean-t_mean))\n",
    "    print(\"How often we see difference of means at least this extreme: {0}\".format(num_ge/N))\n",
    "    "
   ]
  },
  {
   "cell_type": "code",
   "execution_count": 83,
   "metadata": {
    "collapsed": false
   },
   "outputs": [],
   "source": [
    "c = np.array([1, 2, 3, 4])\n",
    "t = np.array([2, 3, 4, 5])"
   ]
  },
  {
   "cell_type": "code",
   "execution_count": 84,
   "metadata": {
    "collapsed": false
   },
   "outputs": [
    {
     "name": "stdout",
     "output_type": "stream",
     "text": [
      "Control mean: 2.5\tTreatment mean: 3.5\n",
      "Control mean - treatment mean: -1.0\n",
      "2325 out of 10000 experiments had a difference of means less than or equal to -1.0\n",
      "How often we see difference of means at least this extreme: 0.2325\n"
     ]
    }
   ],
   "source": [
    "shuffle_method(c, t)"
   ]
  },
  {
   "cell_type": "code",
   "execution_count": 85,
   "metadata": {
    "collapsed": true
   },
   "outputs": [],
   "source": [
    "# using example from book, found in Documents/sandbox/Statistics_Is_Easy/Diff2Mean.vals & Diff2MeanSig.py"
   ]
  },
  {
   "cell_type": "code",
   "execution_count": 86,
   "metadata": {
    "collapsed": false
   },
   "outputs": [],
   "source": [
    "placebo = list(map(int, \"54 51 58 44 55 52 42 47 58 46\".split()))"
   ]
  },
  {
   "cell_type": "code",
   "execution_count": 87,
   "metadata": {
    "collapsed": false
   },
   "outputs": [],
   "source": [
    "drug_vals = list(map(int, \"54 73 53 70 73 68 52 65 65\".split()))"
   ]
  },
  {
   "cell_type": "code",
   "execution_count": 88,
   "metadata": {
    "collapsed": false
   },
   "outputs": [
    {
     "name": "stdout",
     "output_type": "stream",
     "text": [
      "Control mean: 50.7\tTreatment mean: 63.666666666666664\n",
      "Control mean - treatment mean: -12.966666666666661\n",
      "7 out of 10000 experiments had a difference of means less than or equal to -12.966666666666661\n",
      "How often we see difference of means at least this extreme: 0.0007\n"
     ]
    }
   ],
   "source": [
    "shuffle_method(placebo, drug_vals)"
   ]
  },
  {
   "cell_type": "code",
   "execution_count": 58,
   "metadata": {
    "collapsed": true
   },
   "outputs": [],
   "source": []
  },
  {
   "cell_type": "code",
   "execution_count": null,
   "metadata": {
    "collapsed": false
   },
   "outputs": [],
   "source": [
    "# Now let's implement bootstrapping to find confidence intervals"
   ]
  },
  {
   "cell_type": "code",
   "execution_count": 89,
   "metadata": {
    "collapsed": true
   },
   "outputs": [],
   "source": [
    "c = np.array([1, 2, 3, 4])\n",
    "t = np.array([2, 3, 4, 5])"
   ]
  },
  {
   "cell_type": "code",
   "execution_count": 159,
   "metadata": {
    "collapsed": true
   },
   "outputs": [],
   "source": [
    "def boot_ci(control, treatment, N=10000):\n",
    "    '''Assuming control is less than treatment.'''\n",
    "    \n",
    "    # observed difference between the means\n",
    "    c = make_numpy(control)\n",
    "    c = c.reshape(c.shape[0])\n",
    "    t = make_numpy(treatment)\n",
    "    \n",
    "    t = t.reshape(t.shape[0])\n",
    "    c_mean = c.mean()\n",
    "    t_mean = t.mean()\n",
    "    \n",
    "    print(\"Observed difference of means: t - c = {0}\".format(t_mean - c_mean))\n",
    "    \n",
    "    # bootstrapping\n",
    "    t_minus_c = []\n",
    "    \n",
    "    for _ in range(N):\n",
    "        t_boot = np.random.choice(t, size=t.size, replace=True).mean()\n",
    "        c_boot = np.random.choice(c, size=c.size, replace=True).mean()\n",
    "        \n",
    "        t_minus_c.append(t_boot - c_boot)\n",
    "\n",
    "    t_minus_c.sort() # sort() returns ascending, in place for for a list\n",
    "    \n",
    "    # 90% CI\n",
    "    fifth_percentile = round(N*0.05)\n",
    "    ninetyfifth_percentile = round(N*0.95)\n",
    "    print(\"90% confidence intervals: {0} - {1}\".format(t_minus_c[fifth_percentile], t_minus_c[ninetyfifth_percentile]))"
   ]
  },
  {
   "cell_type": "code",
   "execution_count": 153,
   "metadata": {
    "collapsed": false
   },
   "outputs": [
    {
     "data": {
      "text/plain": [
       "array([54, 51, 58, 44, 55, 52, 42, 47, 58, 46])"
      ]
     },
     "execution_count": 153,
     "metadata": {},
     "output_type": "execute_result"
    }
   ],
   "source": [
    "c"
   ]
  },
  {
   "cell_type": "code",
   "execution_count": 154,
   "metadata": {
    "collapsed": false
   },
   "outputs": [],
   "source": [
    "c = make_numpy(placebo)\n",
    "c = c.reshape(c.shape[0])"
   ]
  },
  {
   "cell_type": "code",
   "execution_count": 155,
   "metadata": {
    "collapsed": false
   },
   "outputs": [
    {
     "data": {
      "text/plain": [
       "52.0"
      ]
     },
     "execution_count": 155,
     "metadata": {},
     "output_type": "execute_result"
    }
   ],
   "source": [
    "np.random.choice(c, size=c.size, replace=True).mean()"
   ]
  },
  {
   "cell_type": "code",
   "execution_count": 163,
   "metadata": {
    "collapsed": false
   },
   "outputs": [
    {
     "name": "stdout",
     "output_type": "stream",
     "text": [
      "Observed difference of means: t - c = 12.966666666666661\n",
      "90% confidence intervals: 7.700000000000003 - 18.03333333333333\n"
     ]
    }
   ],
   "source": [
    "boot_ci(control=placebo, treatment=drug_vals)"
   ]
  },
  {
   "cell_type": "code",
   "execution_count": 116,
   "metadata": {
    "collapsed": false
   },
   "outputs": [
    {
     "data": {
      "text/plain": [
       "500"
      ]
     },
     "execution_count": 116,
     "metadata": {},
     "output_type": "execute_result"
    }
   ],
   "source": [
    "N=10000\n",
    "round(N*0.05)"
   ]
  },
  {
   "cell_type": "code",
   "execution_count": 104,
   "metadata": {
    "collapsed": false
   },
   "outputs": [
    {
     "data": {
      "text/plain": [
       "2.25"
      ]
     },
     "execution_count": 104,
     "metadata": {},
     "output_type": "execute_result"
    }
   ],
   "source": [
    "np.random.choice(c, size = c.size, replace=True)"
   ]
  },
  {
   "cell_type": "code",
   "execution_count": 146,
   "metadata": {
    "collapsed": false
   },
   "outputs": [
    {
     "data": {
      "text/plain": [
       "-44.0"
      ]
     },
     "execution_count": 146,
     "metadata": {},
     "output_type": "execute_result"
    }
   ],
   "source": [
    "np.random.choice(t, size=t.size, replace=True).mean() - np.random.choice(c, size=c.size, replace=True).mean()"
   ]
  },
  {
   "cell_type": "code",
   "execution_count": 108,
   "metadata": {
    "collapsed": false
   },
   "outputs": [],
   "source": [
    "lst = [4, 7, 1, 4.2]"
   ]
  },
  {
   "cell_type": "code",
   "execution_count": 112,
   "metadata": {
    "collapsed": false
   },
   "outputs": [],
   "source": [
    "lst.sort?"
   ]
  },
  {
   "cell_type": "code",
   "execution_count": 114,
   "metadata": {
    "collapsed": false
   },
   "outputs": [
    {
     "data": {
      "text/plain": [
       "[1, 4, 4.2, 7]"
      ]
     },
     "execution_count": 114,
     "metadata": {},
     "output_type": "execute_result"
    }
   ],
   "source": [
    "lst"
   ]
  },
  {
   "cell_type": "code",
   "execution_count": null,
   "metadata": {
    "collapsed": true
   },
   "outputs": [],
   "source": []
  }
 ],
 "metadata": {
  "anaconda-cloud": {},
  "kernelspec": {
   "display_name": "Python 3",
   "language": "python",
   "name": "python3"
  },
  "language_info": {
   "codemirror_mode": {
    "name": "ipython",
    "version": 3
   },
   "file_extension": ".py",
   "mimetype": "text/x-python",
   "name": "python",
   "nbconvert_exporter": "python",
   "pygments_lexer": "ipython3",
   "version": "3.5.2"
  }
 },
 "nbformat": 4,
 "nbformat_minor": 1
}
